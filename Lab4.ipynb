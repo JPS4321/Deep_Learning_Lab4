{
 "cells": [
  {
   "cell_type": "markdown",
   "id": "fa00a72b",
   "metadata": {},
   "source": [
    "## **Lab 4 - CNN**\n",
    "- Juan Pablo Solis"
   ]
  },
  {
   "cell_type": "markdown",
   "id": "5f0f42a7",
   "metadata": {},
   "source": [
    "#### **Capa Conv2D**\n",
    "La capa Conv2d trabaja con tensores de cuatro dimensiones que tienen la forma (batch_size, canales, alto, ancho). Sus parámetros más importantes son el número de canales de entrada (in_channels), la cantidad de filtros de salida (out_channels), el tamaño del kernel o filtro (kernel_size), el stride (que es el paso con el que se mueve el filtro), el padding (que rellena los bordes de la imagen) y el uso o no de bias. En las CNN se usa para extraer características de las imágenes, como bordes, texturas y formas, y es una de las capas más básicas y esenciales.\n",
    "\n",
    "#### **Capa MaxPool2D**\n",
    "La capa MaxPool2d también recibe tensores en formato (batch_size, canales, alto, ancho). Sus parámetros principales son el kernel_size, el stride y el padding. Lo que hace es reducir el tamaño de los mapas de características seleccionando el valor máximo dentro de cada ventana. Se usa en CNN para hacer la red más eficiente, reduciendo la cantidad de datos pero conservando lo más importante de la imagen, además de ayudar a controlar el sobreajuste.\n",
    "\n",
    "#### **Capa Avg MaxPool**\n",
    "La capa AvgPool2d funciona de manera parecida a la de max pooling, también recibe tensores de cuatro dimensiones y tiene parámetros como kernel_size, stride y padding. La diferencia es que en lugar de tomar el valor máximo de la ventana, calcula el promedio. Se utiliza en arquitecturas donde se quiere una reducción de dimensionalidad más “suave”, porque conserva más información del área original, aunque pierde un poco la capacidad de destacar características fuertes como bordes.\n",
    "\n",
    "#### **Normalizacion de MNIST**\n",
    "Finalmente, para el dataset MNIST se puede aplicar normalización de diferentes formas. Lo más común es dividir los valores de los píxeles entre 255, para que estén en un rango de 0 a 1. También se puede estandarizar, restando la media y dividiendo entre la desviación estándar del dataset, lo cual hace que los datos tengan media cercana a 0 y varianza 1. Esto ayuda a que el entrenamiento sea más rápido, mejora la estabilidad de la red y reduce el riesgo de que se produzca sobreajuste."
   ]
  },
  {
   "cell_type": "markdown",
   "id": "e5c45c0d",
   "metadata": {},
   "source": [
    "### **Entrenamiento Modelo CNN**"
   ]
  }
 ],
 "metadata": {
  "kernelspec": {
   "display_name": "Python 3",
   "language": "python",
   "name": "python3"
  },
  "language_info": {
   "codemirror_mode": {
    "name": "ipython",
    "version": 3
   },
   "file_extension": ".py",
   "mimetype": "text/x-python",
   "name": "python",
   "nbconvert_exporter": "python",
   "pygments_lexer": "ipython3",
   "version": "3.13.2"
  }
 },
 "nbformat": 4,
 "nbformat_minor": 5
}
